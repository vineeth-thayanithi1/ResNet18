{
  "nbformat": 4,
  "nbformat_minor": 0,
  "metadata": {
    "colab": {
      "name": "ResNet18_SGD_BatchNormalization.ipynb",
      "provenance": []
    },
    "kernelspec": {
      "name": "python3",
      "display_name": "Python 3"
    },
    "accelerator": "GPU"
  },
  "cells": [
    {
      "cell_type": "code",
      "metadata": {
        "id": "-CXHGMsKZWtO",
        "outputId": "e92d8113-4b19-4b41-d64f-61dfdd4679a5",
        "colab": {
          "base_uri": "https://localhost:8080/",
          "height": 942
        }
      },
      "source": [
        "import tensorflow \n",
        "import tensorflow.keras\n",
        "from keras.datasets import cifar100\n",
        "import numpy as np\n",
        "from keras.layers import Conv2D,MaxPooling2D,Dense,Flatten\n",
        "from keras.activations import relu\n",
        "from keras.models import Sequential\n",
        "from keras.utils import to_categorical\n",
        "from keras.optimizers import SGD\n",
        "from keras.metrics import Precision,Recall\n",
        "from tensorflow.keras.layers import AveragePooling2D, Input, Flatten\n",
        "from tensorflow.keras.regularizers import l2\n",
        "from tensorflow.keras.layers import BatchNormalization, Activation\n",
        "from keras.callbacks import EarlyStopping, ModelCheckpoint\n",
        "from tensorflow.keras.models import Model\n",
        "from datetime import datetime\n",
        "import tensorboard\n",
        "import keras\n",
        "\n",
        "(x_train,y_train),(x_test,y_test)=cifar100.load_data()\n",
        "\n",
        "\n",
        "es= EarlyStopping(monitor='val_loss', patience=3)\n",
        "mc= ModelCheckpoint(filepath='ResNet18_SGD_BatchNormalization.h5', monitor='val_loss', save_best_only=True)\n",
        "\n",
        "y_train=to_categorical(y_train)\n",
        "y_test=to_categorical(y_test)\n",
        "\n",
        "mean = x_train.mean()\n",
        "std= x_train.std()\n",
        "x_train=(x_train-mean)/std\n",
        "\n",
        "mean = x_test.mean()\n",
        "std= x_test.std()\n",
        "x_test=(x_test-mean)/std\n",
        "\n",
        "\n",
        "def residual_layer( x, filters): \n",
        "  \n",
        "  \n",
        "  conv= Conv2D(filters, (3, 3), padding='same')(x)\n",
        "  conv=(BatchNormalization())(conv)\n",
        "  r=Activation(relu)(conv)\n",
        "  conv1=Conv2D(filters, (3, 3), padding='same')(r) \n",
        "  conv1=(BatchNormalization())(conv1)\n",
        "\n",
        "  return keras.layers.add([conv1,x])\n",
        "\n",
        "def next_stage_layer(x, filters): \n",
        "  \n",
        "  conv= Conv2D(filters, (3, 3),strides=2, padding='same')(x)\n",
        "  conv=(BatchNormalization())(conv)\n",
        "  r=Activation(relu)(conv)\n",
        "  conv1=Conv2D(filters, (3, 3), padding='same')(r)\n",
        "  conv1=(BatchNormalization())(conv1) \n",
        "\n",
        "  conv2= Conv2D(filters, (1, 1), padding='same',strides=(2,2))(x)\n",
        "  conv2=(BatchNormalization())(conv2)\n",
        "\n",
        "  return keras.layers.add([conv1,conv2])\n",
        "\n",
        "def resnet(input_shape):\n",
        "  inputs = Input(shape=input_shape)\n",
        "  \n",
        "  \n",
        "  conv_1 = Conv2D(64, (7, 7), padding='same',strides=1, input_shape=(32,32,3))(inputs)\n",
        "  conv_1=(BatchNormalization())(conv_1)\n",
        "  max_pool1= MaxPooling2D((3,3),padding='same',strides=2)(conv_1)\n",
        "  relu_1 = Activation(relu)(max_pool1)\n",
        " \n",
        "  res_1=residual_layer(relu_1,64)\n",
        "  relu_2= Activation(relu)(res_1)\n",
        "\n",
        "  res_2=residual_layer(relu_2,64)\n",
        "  relu_3= Activation(relu)(res_2)\n",
        "\n",
        "  res_3= next_stage_layer(relu_3,128)\n",
        "  relu_4= Activation(relu)(res_3)\n",
        "\n",
        "  res_4=residual_layer(relu_4,128)\n",
        "  relu_5= Activation(relu)(res_4)\n",
        "\n",
        "  res_5= next_stage_layer(relu_5,256)\n",
        "  relu_6= Activation(relu)(res_5)\n",
        "\n",
        "  res_6=residual_layer(relu_6,256)\n",
        "  relu_7= Activation(relu)(res_6)\n",
        "\n",
        "  res_7=residual_layer(relu_7,256)\n",
        "  relu_8= Activation(relu)(res_7)\n",
        "  \n",
        "  res_8=residual_layer(relu_8,256)\n",
        "  relu_9= Activation(relu)(res_8)\n",
        "\n",
        "  avg_pool=  x = AveragePooling2D(pool_size=4)(relu_9)\n",
        "  flat= Flatten()(avg_pool)\n",
        "  dense1= Dense(1000,activation='relu')(flat)\n",
        "  dense1=(BatchNormalization())(dense1)\n",
        "  dense2= Dense(100,activation='softmax')(dense1)\n",
        "\n",
        "  model = Model(inputs=inputs, outputs=dense2)\n",
        "  return model\n",
        "\n",
        "model = resnet((32,32,3))\n",
        "\n",
        "logdir=\"logs/fit/\" + datetime.now().strftime(\"%Y%m%d-%H%M%S\")\n",
        "tensorboard_callback = keras.callbacks.TensorBoard(log_dir=logdir)\n",
        "\n",
        "\n",
        "opt = SGD(lr=0.001, momentum=0.7)\n",
        "model.compile(optimizer=opt,loss='categorical_crossentropy', metrics=['accuracy',Precision(),Recall()])\n",
        "history=model.fit(x=x_train,y=y_train,epochs=100, validation_data=(x_test,y_test), callbacks=[es,mc,tensorboard_callback])\n",
        "\n",
        "from matplotlib import pyplot as plt\n",
        "plt.plot(history.history['accuracy'])\n",
        "plt.plot(history.history['val_accuracy'])\n",
        "plt.title('model accuracy')\n",
        "plt.ylabel('accuracy')\n",
        "plt.xlabel('epoch')\n",
        "plt.legend(['train', 'validation'], loc='upper left')\n",
        "plt.show()\n",
        "# \"Loss\"\n",
        "plt.plot(history.history['loss'])\n",
        "plt.plot(history.history['val_loss'])\n",
        "plt.title('model loss')\n",
        "plt.ylabel('loss')\n",
        "plt.xlabel('epoch')\n",
        "plt.legend(['train', 'validation'], loc='upper left')\n",
        "plt.show()"
      ],
      "execution_count": 3,
      "outputs": [
        {
          "output_type": "stream",
          "text": [
            "Epoch 1/100\n",
            "   2/1563 [..............................] - ETA: 3:37 - loss: 5.2262 - accuracy: 0.0156 - precision_1: 0.0000e+00 - recall_1: 0.0000e+00  WARNING:tensorflow:Callbacks method `on_train_batch_end` is slow compared to the batch time (batch time: 0.0313s vs `on_train_batch_end` time: 0.2466s). Check your callbacks.\n",
            "1563/1563 [==============================] - 30s 19ms/step - loss: 3.8011 - accuracy: 0.1354 - precision_1: 0.5626 - recall_1: 0.0152 - val_loss: 3.4307 - val_accuracy: 0.2009 - val_precision_1: 0.5963 - val_recall_1: 0.0483\n",
            "Epoch 2/100\n",
            "1563/1563 [==============================] - 29s 18ms/step - loss: 3.1242 - accuracy: 0.2452 - precision_1: 0.6999 - recall_1: 0.0628 - val_loss: 3.1096 - val_accuracy: 0.2557 - val_precision_1: 0.6357 - val_recall_1: 0.0925\n",
            "Epoch 3/100\n",
            "1563/1563 [==============================] - 29s 18ms/step - loss: 2.7058 - accuracy: 0.3280 - precision_1: 0.7433 - recall_1: 0.1178 - val_loss: 2.7660 - val_accuracy: 0.3191 - val_precision_1: 0.6898 - val_recall_1: 0.1354\n",
            "Epoch 4/100\n",
            "1563/1563 [==============================] - 29s 18ms/step - loss: 2.3636 - accuracy: 0.3960 - precision_1: 0.7693 - recall_1: 0.1753 - val_loss: 2.8308 - val_accuracy: 0.3143 - val_precision_1: 0.6537 - val_recall_1: 0.1576\n",
            "Epoch 5/100\n",
            "1563/1563 [==============================] - 29s 18ms/step - loss: 2.0455 - accuracy: 0.4683 - precision_1: 0.8039 - recall_1: 0.2404 - val_loss: 2.6882 - val_accuracy: 0.3446 - val_precision_1: 0.6488 - val_recall_1: 0.1971\n",
            "Epoch 6/100\n",
            "1563/1563 [==============================] - 29s 19ms/step - loss: 1.7369 - accuracy: 0.5417 - precision_1: 0.8305 - recall_1: 0.3150 - val_loss: 2.5601 - val_accuracy: 0.3692 - val_precision_1: 0.6462 - val_recall_1: 0.2276\n",
            "Epoch 7/100\n",
            "1563/1563 [==============================] - 29s 18ms/step - loss: 1.4174 - accuracy: 0.6230 - precision_1: 0.8622 - recall_1: 0.4017 - val_loss: 2.6610 - val_accuracy: 0.3642 - val_precision_1: 0.6245 - val_recall_1: 0.2475\n",
            "Epoch 8/100\n",
            "1563/1563 [==============================] - 29s 18ms/step - loss: 1.0964 - accuracy: 0.7093 - precision_1: 0.8952 - recall_1: 0.5112 - val_loss: 2.8440 - val_accuracy: 0.3558 - val_precision_1: 0.5547 - val_recall_1: 0.2514\n",
            "Epoch 9/100\n",
            "1563/1563 [==============================] - 29s 18ms/step - loss: 0.7699 - accuracy: 0.8049 - precision_1: 0.9311 - recall_1: 0.6409 - val_loss: 2.8725 - val_accuracy: 0.3606 - val_precision_1: 0.5484 - val_recall_1: 0.2750\n"
          ],
          "name": "stdout"
        },
        {
          "output_type": "display_data",
          "data": {
            "image/png": "[encoded data removed]",
            "text/plain": [
              "<Figure size 432x288 with 1 Axes>"
            ]
          },
          "metadata": {
            "tags": [],
            "needs_background": "light"
          }
        },
        {
          "output_type": "display_data",
          "data": {
            "image/png": "[encoded data removed]",
            "text/plain": [
              "<Figure size 432x288 with 1 Axes>"
            ]
          },
          "metadata": {
            "tags": [],
            "needs_background": "light"
          }
        }
      ]
    },
    {
      "cell_type": "code",
      "metadata": {
        "id": "-ldC3CM4bud4",
        "outputId": "9f9515ab-5a18-4d57-d6f4-fd921d22f6bf",
        "colab": {
          "base_uri": "https://localhost:8080/",
          "height": 90
        }
      },
      "source": [
        "import keras \n",
        "\n",
        "(x_train,y_train),(x_test,y_test)=cifar100.load_data()\n",
        "y_test=to_categorical(y_test)\n",
        "\n",
        "mean = x_test.mean()\n",
        "std= x_test.std()\n",
        "x_test=(x_test-mean)/std\n",
        "\n",
        "\n",
        "best_model= keras.models.load_model('ResNet18_SGD_BatchNormalization.h5')\n",
        "_, acc,precision,recall = best_model.evaluate(x_test, y_test)\n",
        "print(\"Accuracy: \"+str(acc*100)+\"%\")\n",
        "print(\"Precision: \"+str(precision*100)+\"%\")\n",
        "print(\"Recall: \"+str(recall*100)+\"%\")"
      ],
      "execution_count": 5,
      "outputs": [
        {
          "output_type": "stream",
          "text": [
            "313/313 [==============================] - 2s 8ms/step - loss: 2.5601 - accuracy: 0.3692 - precision_1: 0.6462 - recall_1: 0.2276\n",
            "Accuracy: 36.91999912261963%\n",
            "Precision: 64.62237238883972%\n",
            "Recall: 22.759999334812164%\n"
          ],
          "name": "stdout"
        }
      ]
    },
    {
      "cell_type": "code",
      "metadata": {
        "id": "Wt3elcj-kzW8"
      },
      "source": [
        ""
      ],
      "execution_count": null,
      "outputs": []
    }
  ]
}