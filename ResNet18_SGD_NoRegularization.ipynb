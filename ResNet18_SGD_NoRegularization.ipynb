{
  "nbformat": 4,
  "nbformat_minor": 0,
  "metadata": {
    "colab": {
      "name": "ResNet18_SGD_NoRegularization.ipynb",
      "provenance": [],
      "collapsed_sections": []
    },
    "kernelspec": {
      "name": "python3",
      "display_name": "Python 3"
    },
    "accelerator": "GPU"
  },
  "cells": [
    {
      "cell_type": "code",
      "metadata": {
        "id": "tSWG-AdOBXd_"
      },
      "source": [
        "%load_ext tensorboard"
      ],
      "execution_count": 1,
      "outputs": []
    },
    {
      "cell_type": "code",
      "metadata": {
        "id": "4DXUPvdh8JmJ",
        "outputId": "f41caca0-e9b0-423b-8a1a-f1ac48e106ac",
        "colab": {
          "base_uri": "https://localhost:8080/",
          "height": 1000
        }
      },
      "source": [
        "import tensorflow \n",
        "import tensorflow.keras\n",
        "from keras.datasets import cifar100\n",
        "import numpy as np\n",
        "from keras.layers import Conv2D,MaxPooling2D,Dense,Flatten\n",
        "from keras.activations import relu\n",
        "from keras.models import Sequential\n",
        "from keras.utils import to_categorical\n",
        "from keras.optimizers import SGD\n",
        "from keras.metrics import Precision,Recall\n",
        "from tensorflow.keras.layers import AveragePooling2D, Input, Flatten\n",
        "from tensorflow.keras.regularizers import l2\n",
        "from tensorflow.keras.layers import BatchNormalization, Activation\n",
        "from keras.callbacks import EarlyStopping, ModelCheckpoint\n",
        "from tensorflow.keras.models import Model\n",
        "from datetime import datetime\n",
        "import tensorboard\n",
        "import keras\n",
        "\n",
        "(x_train,y_train),(x_test,y_test)=cifar100.load_data()\n",
        "\n",
        "\n",
        "es= EarlyStopping(monitor='val_loss', patience=3)\n",
        "mc= ModelCheckpoint(filepath='ResNet18_SGD_NoRegularization.h5', monitor='val_loss', save_best_only=True)\n",
        "\n",
        "y_train=to_categorical(y_train)\n",
        "y_test=to_categorical(y_test)\n",
        "\n",
        "mean = x_train.mean()\n",
        "std= x_train.std()\n",
        "x_train=(x_train-mean)/std\n",
        "\n",
        "mean = x_test.mean()\n",
        "std= x_test.std()\n",
        "x_test=(x_test-mean)/std\n",
        "\n",
        "\n",
        "def residual_layer( x, filters): \n",
        "  \n",
        "  \n",
        "  conv= Conv2D(filters, (3, 3), padding='same')(x)\n",
        "  r=Activation(relu)(conv)\n",
        "  conv1=Conv2D(filters, (3, 3), padding='same')(r) \n",
        "\n",
        "  return keras.layers.add([conv1,x])\n",
        "\n",
        "def next_stage_layer(x, filters): \n",
        "  \n",
        "  conv= Conv2D(filters, (3, 3),strides=2, padding='same')(x)\n",
        "  r=Activation(relu)(conv)\n",
        "  conv1=Conv2D(filters, (3, 3), padding='same')(r) \n",
        "\n",
        "  conv2= Conv2D(filters, (1, 1), padding='same',strides=(2,2))(x)\n",
        "\n",
        "  return keras.layers.add([conv1,conv2])\n",
        "\n",
        "def resnet(input_shape):\n",
        "  inputs = Input(shape=input_shape)\n",
        "  \n",
        "  \n",
        "  conv_1 = Conv2D(64, (7, 7), padding='same',strides=1, input_shape=(32,32,3))(inputs)\n",
        "  max_pool1= MaxPooling2D((3,3),padding='same',strides=2)(conv_1)\n",
        "  relu_1 = Activation(relu)(max_pool1)\n",
        " \n",
        "  res_1=residual_layer(relu_1,64)\n",
        "  relu_2= Activation(relu)(res_1)\n",
        "\n",
        "  res_2=residual_layer(relu_2,64)\n",
        "  relu_3= Activation(relu)(res_2)\n",
        "\n",
        "  res_3= next_stage_layer(relu_3,128)\n",
        "  relu_4= Activation(relu)(res_3)\n",
        "\n",
        "  res_4=residual_layer(relu_4,128)\n",
        "  relu_5= Activation(relu)(res_4)\n",
        "\n",
        "  res_5= next_stage_layer(relu_5,256)\n",
        "  relu_6= Activation(relu)(res_5)\n",
        "\n",
        "  res_6=residual_layer(relu_6,256)\n",
        "  relu_7= Activation(relu)(res_6)\n",
        "\n",
        "  res_7=residual_layer(relu_7,256)\n",
        "  relu_8= Activation(relu)(res_7)\n",
        "  \n",
        "  res_8=residual_layer(relu_8,256)\n",
        "  relu_9= Activation(relu)(res_8)\n",
        "\n",
        "  avg_pool=  x = AveragePooling2D(pool_size=4)(relu_9)\n",
        "  flat= Flatten()(avg_pool)\n",
        "  dense1= Dense(1000,activation='relu')(flat)\n",
        "  dense2= Dense(100,activation='softmax')(dense1)\n",
        "\n",
        "  model = Model(inputs=inputs, outputs=dense2)\n",
        "  return model\n",
        "\n",
        "model = resnet((32,32,3))\n",
        "\n",
        "logdir=\"logs/fit/\" + datetime.now().strftime(\"%Y%m%d-%H%M%S\")\n",
        "tensorboard_callback = keras.callbacks.TensorBoard(log_dir=logdir)\n",
        "\n",
        "opt = SGD(lr=0.001, momentum=0.9)\n",
        "model.compile(optimizer=opt,loss='categorical_crossentropy', metrics=['accuracy',Precision(),Recall()])\n",
        "history=model.fit(x=x_train,y=y_train,epochs=100, validation_split=0.2, callbacks=[es,mc,tensorboard_callback])\n",
        "\n",
        "from matplotlib import pyplot as plt\n",
        "plt.plot(history.history['accuracy'])\n",
        "plt.plot(history.history['val_accuracy'])\n",
        "plt.title('model accuracy')\n",
        "plt.ylabel('accuracy')\n",
        "plt.xlabel('epoch')\n",
        "plt.legend(['train', 'validation'], loc='upper left')\n",
        "plt.show()\n",
        "# \"Loss\"\n",
        "plt.plot(history.history['loss'])\n",
        "plt.plot(history.history['val_loss'])\n",
        "plt.title('model loss')\n",
        "plt.ylabel('loss')\n",
        "plt.xlabel('epoch')\n",
        "plt.legend(['train', 'validation'], loc='upper left')\n",
        "plt.show()"
      ],
      "execution_count": 2,
      "outputs": [
        {
          "output_type": "stream",
          "text": [
            "Downloading data from https://www.cs.toronto.edu/~kriz/cifar-100-python.tar.gz\n",
            "169009152/169001437 [==============================] - 4s 0us/step\n",
            "Epoch 1/100\n",
            "   1/1250 [..............................] - ETA: 0s - loss: 4.6200 - accuracy: 0.0000e+00 - precision: 0.0000e+00 - recall: 0.0000e+00WARNING:tensorflow:From /usr/local/lib/python3.6/dist-packages/tensorflow/python/ops/summary_ops_v2.py:1277: stop (from tensorflow.python.eager.profiler) is deprecated and will be removed after 2020-07-01.\n",
            "Instructions for updating:\n",
            "use `tf.profiler.experimental.stop` instead.\n",
            "   2/1250 [..............................] - ETA: 57s - loss: 4.6084 - accuracy: 0.0000e+00 - precision: 0.0000e+00 - recall: 0.0000e+00WARNING:tensorflow:Callbacks method `on_train_batch_end` is slow compared to the batch time (batch time: 0.0171s vs `on_train_batch_end` time: 0.0743s). Check your callbacks.\n",
            "1250/1250 [==============================] - 21s 17ms/step - loss: 4.3318 - accuracy: 0.0399 - precision: 0.3333 - recall: 3.7500e-04 - val_loss: 4.0166 - val_accuracy: 0.0825 - val_precision: 0.4085 - val_recall: 0.0029\n",
            "Epoch 2/100\n",
            "1250/1250 [==============================] - 20s 16ms/step - loss: 3.8494 - accuracy: 0.1015 - precision: 0.4378 - recall: 0.0044 - val_loss: 3.7205 - val_accuracy: 0.1290 - val_precision: 0.5066 - val_recall: 0.0116\n",
            "Epoch 3/100\n",
            "1250/1250 [==============================] - 21s 16ms/step - loss: 3.5468 - accuracy: 0.1511 - precision: 0.5725 - recall: 0.0170 - val_loss: 3.4651 - val_accuracy: 0.1760 - val_precision: 0.6966 - val_recall: 0.0186\n",
            "Epoch 4/100\n",
            "1250/1250 [==============================] - 20s 16ms/step - loss: 3.2956 - accuracy: 0.1949 - precision: 0.5987 - recall: 0.0350 - val_loss: 3.2909 - val_accuracy: 0.2064 - val_precision: 0.6536 - val_recall: 0.0449\n",
            "Epoch 5/100\n",
            "1250/1250 [==============================] - 20s 16ms/step - loss: 3.0722 - accuracy: 0.2378 - precision: 0.6497 - recall: 0.0619 - val_loss: 3.0330 - val_accuracy: 0.2484 - val_precision: 0.6527 - val_recall: 0.0763\n",
            "Epoch 6/100\n",
            "1250/1250 [==============================] - 20s 16ms/step - loss: 2.8862 - accuracy: 0.2748 - precision: 0.6694 - recall: 0.0887 - val_loss: 2.9109 - val_accuracy: 0.2682 - val_precision: 0.6638 - val_recall: 0.0863\n",
            "Epoch 7/100\n",
            "1250/1250 [==============================] - 20s 16ms/step - loss: 2.7056 - accuracy: 0.3086 - precision: 0.6869 - recall: 0.1166 - val_loss: 2.6896 - val_accuracy: 0.3170 - val_precision: 0.6819 - val_recall: 0.1119\n",
            "Epoch 8/100\n",
            "1250/1250 [==============================] - 20s 16ms/step - loss: 2.5314 - accuracy: 0.3449 - precision: 0.7001 - recall: 0.1492 - val_loss: 2.6530 - val_accuracy: 0.3213 - val_precision: 0.6608 - val_recall: 0.1391\n",
            "Epoch 9/100\n",
            "1250/1250 [==============================] - 20s 16ms/step - loss: 2.3831 - accuracy: 0.3769 - precision: 0.7168 - recall: 0.1801 - val_loss: 2.5523 - val_accuracy: 0.3420 - val_precision: 0.6719 - val_recall: 0.1679\n",
            "Epoch 10/100\n",
            "1250/1250 [==============================] - 20s 16ms/step - loss: 2.2188 - accuracy: 0.4093 - precision: 0.7270 - recall: 0.2183 - val_loss: 2.5603 - val_accuracy: 0.3487 - val_precision: 0.6389 - val_recall: 0.1918\n",
            "Epoch 11/100\n",
            "1250/1250 [==============================] - 20s 16ms/step - loss: 2.0761 - accuracy: 0.4403 - precision: 0.7373 - recall: 0.2548 - val_loss: 2.4279 - val_accuracy: 0.3734 - val_precision: 0.6949 - val_recall: 0.1902\n",
            "Epoch 12/100\n",
            "1250/1250 [==============================] - 20s 16ms/step - loss: 1.9383 - accuracy: 0.4747 - precision: 0.7496 - recall: 0.2916 - val_loss: 2.3492 - val_accuracy: 0.3971 - val_precision: 0.6494 - val_recall: 0.2489\n",
            "Epoch 13/100\n",
            "1250/1250 [==============================] - 20s 16ms/step - loss: 1.7955 - accuracy: 0.5018 - precision: 0.7641 - recall: 0.3326 - val_loss: 2.3992 - val_accuracy: 0.3935 - val_precision: 0.6484 - val_recall: 0.2508\n",
            "Epoch 14/100\n",
            "1250/1250 [==============================] - 20s 16ms/step - loss: 1.6463 - accuracy: 0.5426 - precision: 0.7783 - recall: 0.3780 - val_loss: 2.3431 - val_accuracy: 0.4144 - val_precision: 0.6344 - val_recall: 0.2877\n",
            "Epoch 15/100\n",
            "1250/1250 [==============================] - 20s 16ms/step - loss: 1.5013 - accuracy: 0.5758 - precision: 0.7829 - recall: 0.4223 - val_loss: 2.2998 - val_accuracy: 0.4259 - val_precision: 0.6315 - val_recall: 0.3016\n",
            "Epoch 16/100\n",
            "1250/1250 [==============================] - 20s 16ms/step - loss: 1.3473 - accuracy: 0.6148 - precision: 0.8010 - recall: 0.4767 - val_loss: 2.3768 - val_accuracy: 0.4200 - val_precision: 0.6081 - val_recall: 0.3230\n",
            "Epoch 17/100\n",
            "1250/1250 [==============================] - 20s 16ms/step - loss: 1.1904 - accuracy: 0.6518 - precision: 0.8120 - recall: 0.5296 - val_loss: 2.5006 - val_accuracy: 0.4132 - val_precision: 0.5821 - val_recall: 0.3262\n",
            "Epoch 18/100\n",
            "1250/1250 [==============================] - 20s 16ms/step - loss: 1.0357 - accuracy: 0.6916 - precision: 0.8257 - recall: 0.5846 - val_loss: 2.7165 - val_accuracy: 0.3868 - val_precision: 0.5254 - val_recall: 0.3101\n"
          ],
          "name": "stdout"
        },
        {
          "output_type": "display_data",
          "data": {
            "image/png": "[encoded data removed]",
            "text/plain": [
              "<Figure size 432x288 with 1 Axes>"
            ]
          },
          "metadata": {
            "tags": [],
            "needs_background": "light"
          }
        },
        {
          "output_type": "display_data",
          "data": {
            "image/png": "[encoded data removed]",
            "text/plain": [
              "<Figure size 432x288 with 1 Axes>"
            ]
          },
          "metadata": {
            "tags": [],
            "needs_background": "light"
          }
        }
      ]
    },
    {
      "cell_type": "code",
      "metadata": {
        "id": "ymcHAf6uXcrQ",
        "outputId": "6a0235b8-f17e-42c1-8cea-98ffe1472202",
        "colab": {
          "base_uri": "https://localhost:8080/",
          "height": 90
        }
      },
      "source": [
        "import keras \n",
        "\n",
        "(x_train,y_train),(x_test,y_test)=cifar100.load_data()\n",
        "y_test=to_categorical(y_test)\n",
        "\n",
        "mean = x_test.mean()\n",
        "std= x_test.std()\n",
        "x_test=(x_test-mean)/std\n",
        "\n",
        "\n",
        "best_model= keras.models.load_model('ResNet18_SGD_NoRegularization.h5')\n",
        "_, acc,precision,recall = best_model.evaluate(x_test, y_test)\n",
        "\n",
        "print(\"Accuracy: \"+str(acc*100)+\"%\")\n",
        "print(\"Precision: \"+str(precision*100)+\"%\")\n",
        "print(\"Recall: \"+str(recall*100)+\"%\")"
      ],
      "execution_count": 5,
      "outputs": [
        {
          "output_type": "stream",
          "text": [
            "313/313 [==============================] - 2s 7ms/step - loss: 2.2855 - accuracy: 0.4283 - precision: 0.6442 - recall: 0.3084\n",
            "Accuracy: 42.82999932765961%\n",
            "Precision: 64.42448496818542%\n",
            "Recall: 30.84000051021576%\n"
          ],
          "name": "stdout"
        }
      ]
    },
    {
      "cell_type": "code",
      "metadata": {
        "id": "y533IjqgkGmy"
      },
      "source": [
        ""
      ],
      "execution_count": null,
      "outputs": []
    }
  ]
}