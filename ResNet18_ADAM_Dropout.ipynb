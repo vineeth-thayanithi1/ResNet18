{
  "nbformat": 4,
  "nbformat_minor": 0,
  "metadata": {
    "colab": {
      "name": "ResNet18_ADAM_Dropout.ipynb",
      "provenance": []
    },
    "kernelspec": {
      "name": "python3",
      "display_name": "Python 3"
    },
    "accelerator": "GPU"
  },
  "cells": [
    {
      "cell_type": "code",
      "metadata": {
        "id": "-CXHGMsKZWtO",
        "outputId": "222aa132-c494-42e6-ff7c-e209f8826d47",
        "colab": {
          "base_uri": "https://localhost:8080/",
          "height": 1000
        }
      },
      "source": [
        "import tensorflow \n",
        "import tensorflow.keras\n",
        "from keras.datasets import cifar100\n",
        "import numpy as np\n",
        "from keras.layers import Conv2D,MaxPooling2D,Dropout, Dense,Flatten\n",
        "from keras.activations import relu\n",
        "from keras.models import Sequential\n",
        "from keras.utils import to_categorical\n",
        "from keras.optimizers import SGD\n",
        "from keras.metrics import Precision,Recall\n",
        "from tensorflow.keras.layers import AveragePooling2D, Input, Flatten\n",
        "from tensorflow.keras.regularizers import l2\n",
        "from tensorflow.keras.layers import BatchNormalization, Activation\n",
        "from keras.callbacks import EarlyStopping, ModelCheckpoint\n",
        "from tensorflow.keras.models import Model\n",
        "from datetime import datetime\n",
        "import tensorboard\n",
        "import keras\n",
        "\n",
        "(x_train,y_train),(x_test,y_test)=cifar100.load_data()\n",
        "\n",
        "\n",
        "es= EarlyStopping(monitor='val_loss', patience=3)\n",
        "mc= ModelCheckpoint(filepath='ResNet18_ADAM_Dropout.h5', monitor='val_loss', save_best_only=True)\n",
        "\n",
        "y_train=to_categorical(y_train)\n",
        "y_test=to_categorical(y_test)\n",
        "\n",
        "mean = x_train.mean()\n",
        "std= x_train.std()\n",
        "x_train=(x_train-mean)/std\n",
        "\n",
        "mean = x_test.mean()\n",
        "std= x_test.std()\n",
        "x_test=(x_test-mean)/std\n",
        "\n",
        "\n",
        "def residual_layer( x, filters): \n",
        "  \n",
        "  \n",
        "  conv= Conv2D(filters, (3, 3), padding='same')(x)\n",
        "  conv=(BatchNormalization())(conv)\n",
        "\n",
        "  conv=(Dropout(0.2))(conv)\n",
        "\n",
        "  r=Activation(relu)(conv)\n",
        "\n",
        "  conv1=Conv2D(filters, (3, 3), padding='same')(r) \n",
        "  conv1=(BatchNormalization())(conv1)\n",
        "  conv1=(Dropout(0.2))(conv1)\n",
        "\n",
        "  return keras.layers.add([conv1,x])\n",
        "\n",
        "def next_stage_layer(x, filters): \n",
        "  \n",
        "  conv= Conv2D(filters, (3, 3),strides=2, padding='same')(x)\n",
        "  conv=(BatchNormalization())(conv)\n",
        "  conv=(Dropout(0.2))(conv)\n",
        "\n",
        "  r=Activation(relu)(conv)\n",
        "  conv1=Conv2D(filters, (3, 3), padding='same')(r)\n",
        "  conv1=(BatchNormalization())(conv1) \n",
        "  conv1=(Dropout(0.2))(conv1)\n",
        "\n",
        "  conv2= Conv2D(filters, (1, 1), padding='same',strides=(2,2))(x)\n",
        "  conv2=(BatchNormalization())(conv2)\n",
        "  conv2=(Dropout(0.2))(conv2)\n",
        "\n",
        "  return keras.layers.add([conv1,conv2])\n",
        "\n",
        "def resnet(input_shape):\n",
        "  inputs = Input(shape=input_shape)\n",
        "  \n",
        "  \n",
        "  conv_1 = Conv2D(64, (7, 7), padding='same',strides=1, input_shape=(32,32,3))(inputs)\n",
        "  conv_1=(BatchNormalization())(conv_1)\n",
        "  conv_1=(Dropout(0.2))(conv_1)\n",
        "\n",
        "  max_pool1= MaxPooling2D((3,3),padding='same',strides=2)(conv_1)\n",
        "  relu_1 = Activation(relu)(max_pool1)\n",
        " \n",
        "  res_1=residual_layer(relu_1,64)\n",
        "  relu_2= Activation(relu)(res_1)\n",
        "\n",
        "  res_2=residual_layer(relu_2,64)\n",
        "  relu_3= Activation(relu)(res_2)\n",
        "\n",
        "  res_3= next_stage_layer(relu_3,128)\n",
        "  relu_4= Activation(relu)(res_3)\n",
        "\n",
        "  res_4=residual_layer(relu_4,128)\n",
        "  relu_5= Activation(relu)(res_4)\n",
        "\n",
        "  res_5= next_stage_layer(relu_5,256)\n",
        "  relu_6= Activation(relu)(res_5)\n",
        "\n",
        "  res_6=residual_layer(relu_6,256)\n",
        "  relu_7= Activation(relu)(res_6)\n",
        "\n",
        "  res_7=residual_layer(relu_7,256)\n",
        "  relu_8= Activation(relu)(res_7)\n",
        "  \n",
        "  res_8=residual_layer(relu_8,256)\n",
        "  relu_9= Activation(relu)(res_8)\n",
        "\n",
        "  avg_pool=  x = AveragePooling2D(pool_size=4)(relu_9)\n",
        "  flat= Flatten()(avg_pool)\n",
        "  dense1= Dense(1000,activation='relu')(flat)\n",
        "  dense1=(BatchNormalization())(dense1)\n",
        "  dense1=(Dropout(0.2))(dense1)\n",
        "  dense2= Dense(100,activation='softmax')(dense1)\n",
        "\n",
        "  model = Model(inputs=inputs, outputs=dense2)\n",
        "  return model\n",
        "\n",
        "model = resnet((32,32,3))\n",
        "\n",
        "logdir=\"logs/fit/\" + datetime.now().strftime(\"%Y%m%d-%H%M%S\")\n",
        "tensorboard_callback = keras.callbacks.TensorBoard(log_dir=logdir)\n",
        "\n",
        "model.compile(optimizer='adam',loss='categorical_crossentropy', metrics=['accuracy',Precision(),Recall()])\n",
        "history=model.fit(x=x_train,y=y_train,epochs=100, validation_data=(x_test,y_test), callbacks=[es,mc,tensorboard_callback])\n",
        "\n",
        "from matplotlib import pyplot as plt\n",
        "plt.plot(history.history['accuracy'])\n",
        "plt.plot(history.history['val_accuracy'])\n",
        "plt.title('model accuracy')\n",
        "plt.ylabel('accuracy')\n",
        "plt.xlabel('epoch')\n",
        "plt.legend(['train', 'validation'], loc='upper left')\n",
        "plt.show()\n",
        "# \"Loss\"\n",
        "plt.plot(history.history['loss'])\n",
        "plt.plot(history.history['val_loss'])\n",
        "plt.title('model loss')\n",
        "plt.ylabel('loss')\n",
        "plt.xlabel('epoch')\n",
        "plt.legend(['train', 'validation'], loc='upper left')\n",
        "plt.show()"
      ],
      "execution_count": 3,
      "outputs": [
        {
          "output_type": "stream",
          "text": [
            "Epoch 1/100\n",
            "   1/1563 [..............................] - ETA: 0s - loss: 5.1071 - accuracy: 0.0000e+00 - precision: 0.0000e+00 - recall: 0.0000e+00WARNING:tensorflow:From /usr/local/lib/python3.6/dist-packages/tensorflow/python/ops/summary_ops_v2.py:1277: stop (from tensorflow.python.eager.profiler) is deprecated and will be removed after 2020-07-01.\n",
            "Instructions for updating:\n",
            "use `tf.profiler.experimental.stop` instead.\n",
            "   2/1563 [..............................] - ETA: 1:46 - loss: 5.2919 - accuracy: 0.0000e+00 - precision: 0.0000e+00 - recall: 0.0000e+00WARNING:tensorflow:Callbacks method `on_train_batch_end` is slow compared to the batch time (batch time: 0.0264s vs `on_train_batch_end` time: 0.1062s). Check your callbacks.\n",
            "1563/1563 [==============================] - 31s 20ms/step - loss: 4.0086 - accuracy: 0.1075 - precision: 0.2425 - recall: 0.0106 - val_loss: 3.6896 - val_accuracy: 0.1596 - val_precision: 0.3843 - val_recall: 0.0254\n",
            "Epoch 2/100\n",
            "1563/1563 [==============================] - 31s 20ms/step - loss: 3.1842 - accuracy: 0.2209 - precision: 0.5289 - recall: 0.0630 - val_loss: 2.9965 - val_accuracy: 0.2574 - val_precision: 0.5310 - val_recall: 0.1089\n",
            "Epoch 3/100\n",
            "1563/1563 [==============================] - 31s 20ms/step - loss: 2.6744 - accuracy: 0.3123 - precision: 0.6377 - recall: 0.1323 - val_loss: 2.5894 - val_accuracy: 0.3369 - val_precision: 0.6715 - val_recall: 0.1611\n",
            "Epoch 4/100\n",
            "1563/1563 [==============================] - 31s 20ms/step - loss: 2.3744 - accuracy: 0.3760 - precision: 0.6846 - recall: 0.1898 - val_loss: 2.3711 - val_accuracy: 0.3876 - val_precision: 0.6837 - val_recall: 0.2222\n",
            "Epoch 5/100\n",
            "1563/1563 [==============================] - 32s 21ms/step - loss: 2.1638 - accuracy: 0.4221 - precision: 0.7086 - recall: 0.2417 - val_loss: 2.3400 - val_accuracy: 0.3841 - val_precision: 0.6785 - val_recall: 0.2336\n",
            "Epoch 6/100\n",
            "1563/1563 [==============================] - 32s 21ms/step - loss: 1.9930 - accuracy: 0.4588 - precision: 0.7287 - recall: 0.2839 - val_loss: 2.2071 - val_accuracy: 0.4257 - val_precision: 0.6601 - val_recall: 0.2849\n",
            "Epoch 7/100\n",
            "1563/1563 [==============================] - 32s 21ms/step - loss: 1.8463 - accuracy: 0.4909 - precision: 0.7361 - recall: 0.3238 - val_loss: 2.0384 - val_accuracy: 0.4547 - val_precision: 0.7026 - val_recall: 0.3234\n",
            "Epoch 8/100\n",
            "1563/1563 [==============================] - 32s 20ms/step - loss: 1.7075 - accuracy: 0.5243 - precision: 0.7545 - recall: 0.3691 - val_loss: 2.0055 - val_accuracy: 0.4705 - val_precision: 0.6907 - val_recall: 0.3433\n",
            "Epoch 9/100\n",
            "1563/1563 [==============================] - 32s 20ms/step - loss: 1.5730 - accuracy: 0.5576 - precision: 0.7696 - recall: 0.4081 - val_loss: 1.8766 - val_accuracy: 0.5003 - val_precision: 0.6990 - val_recall: 0.3876\n",
            "Epoch 10/100\n",
            "1563/1563 [==============================] - 32s 20ms/step - loss: 1.4568 - accuracy: 0.5824 - precision: 0.7759 - recall: 0.4444 - val_loss: 1.9755 - val_accuracy: 0.4902 - val_precision: 0.6832 - val_recall: 0.3889\n",
            "Epoch 11/100\n",
            "1563/1563 [==============================] - 32s 20ms/step - loss: 1.3508 - accuracy: 0.6089 - precision: 0.7844 - recall: 0.4811 - val_loss: 2.4576 - val_accuracy: 0.4134 - val_precision: 0.5559 - val_recall: 0.3383\n",
            "Epoch 12/100\n",
            "1563/1563 [==============================] - 32s 20ms/step - loss: 1.2497 - accuracy: 0.6342 - precision: 0.7955 - recall: 0.5153 - val_loss: 1.8503 - val_accuracy: 0.5259 - val_precision: 0.6785 - val_recall: 0.4416\n",
            "Epoch 13/100\n",
            "1563/1563 [==============================] - 32s 20ms/step - loss: 1.1599 - accuracy: 0.6587 - precision: 0.8019 - recall: 0.5486 - val_loss: 1.9375 - val_accuracy: 0.5217 - val_precision: 0.6703 - val_recall: 0.4486\n",
            "Epoch 14/100\n",
            "1563/1563 [==============================] - 32s 20ms/step - loss: 1.0688 - accuracy: 0.6791 - precision: 0.8092 - recall: 0.5773 - val_loss: 1.8912 - val_accuracy: 0.5264 - val_precision: 0.6649 - val_recall: 0.4561\n",
            "Epoch 15/100\n",
            "1563/1563 [==============================] - 32s 20ms/step - loss: 0.9988 - accuracy: 0.7001 - precision: 0.8158 - recall: 0.6055 - val_loss: 1.9639 - val_accuracy: 0.5230 - val_precision: 0.6570 - val_recall: 0.4576\n"
          ],
          "name": "stdout"
        },
        {
          "output_type": "display_data",
          "data": {
            "image/png": "[encoded data removed]",
            "text/plain": [
              "<Figure size 432x288 with 1 Axes>"
            ]
          },
          "metadata": {
            "tags": [],
            "needs_background": "light"
          }
        },
        {
          "output_type": "display_data",
          "data": {
            "image/png": "[encoded data removed]",
            "text/plain": [
              "<Figure size 432x288 with 1 Axes>"
            ]
          },
          "metadata": {
            "tags": [],
            "needs_background": "light"
          }
        }
      ]
    },
    {
      "cell_type": "code",
      "metadata": {
        "id": "8IL_Nzm6dhBz",
        "outputId": "963c2b29-87c9-45f3-8d47-40d85647d337",
        "colab": {
          "base_uri": "https://localhost:8080/",
          "height": 90
        }
      },
      "source": [
        "import keras \n",
        "\n",
        "(x_train,y_train),(x_test,y_test)=cifar100.load_data()\n",
        "y_test=to_categorical(y_test)\n",
        "\n",
        "mean = x_test.mean()\n",
        "std= x_test.std()\n",
        "x_test=(x_test-mean)/std\n",
        "\n",
        "\n",
        "best_model= keras.models.load_model('ResNet18_ADAM_Dropout.h5')\n",
        "_, acc,precision,recall = best_model.evaluate(x_test, y_test)\n",
        "print(\"Accuracy: \"+str(acc*100)+\"%\")\n",
        "print(\"Precision: \"+str(precision*100)+\"%\")\n",
        "print(\"Recall: \"+str(recall*100)+\"%\")"
      ],
      "execution_count": 4,
      "outputs": [
        {
          "output_type": "stream",
          "text": [
            "313/313 [==============================] - 2s 8ms/step - loss: 1.8503 - accuracy: 0.5259 - precision: 0.6785 - recall: 0.4416\n",
            "Accuracy: 52.59000062942505%\n",
            "Precision: 67.85494685173035%\n",
            "Recall: 44.15999948978424%\n"
          ],
          "name": "stdout"
        }
      ]
    },
    {
      "cell_type": "code",
      "metadata": {
        "id": "-ldC3CM4bud4"
      },
      "source": [
        ""
      ],
      "execution_count": null,
      "outputs": []
    }
  ]
}