{
  "nbformat": 4,
  "nbformat_minor": 0,
  "metadata": {
    "colab": {
      "name": "ResNet18_ADAM_NoRegularization.ipynb",
      "provenance": [],
      "collapsed_sections": []
    },
    "kernelspec": {
      "name": "python3",
      "display_name": "Python 3"
    },
    "accelerator": "GPU"
  },
  "cells": [
    {
      "cell_type": "code",
      "metadata": {
        "id": "4DXUPvdh8JmJ",
        "outputId": "5c83a094-7f6c-4eaf-a6e1-477985c22ef3",
        "colab": {
          "base_uri": "https://localhost:8080/",
          "height": 904
        }
      },
      "source": [
        "import tensorflow \n",
        "import tensorflow.keras\n",
        "from keras.datasets import cifar100\n",
        "import numpy as np\n",
        "from keras.layers import Conv2D,MaxPooling2D,Dense,Flatten\n",
        "from keras.activations import relu\n",
        "from keras.models import Sequential\n",
        "from keras.utils import to_categorical\n",
        "from keras.optimizers import SGD\n",
        "from keras.metrics import Precision,Recall\n",
        "from tensorflow.keras.layers import AveragePooling2D, Input, Flatten\n",
        "from tensorflow.keras.regularizers import l2\n",
        "from tensorflow.keras.layers import BatchNormalization, Activation\n",
        "from keras.callbacks import EarlyStopping, ModelCheckpoint\n",
        "from tensorflow.keras.models import Model\n",
        "from datetime import datetime\n",
        "import tensorboard\n",
        "import keras\n",
        "\n",
        "(x_train,y_train),(x_test,y_test)=cifar100.load_data()\n",
        "\n",
        "\n",
        "es= EarlyStopping(monitor='val_loss', patience=3)\n",
        "mc= ModelCheckpoint(filepath='ResNet18_ADAM_NoRegularization.h5', monitor='val_loss', save_best_only=True)\n",
        "\n",
        "y_train=to_categorical(y_train)\n",
        "y_test=to_categorical(y_test)\n",
        "\n",
        "mean = x_train.mean()\n",
        "std= x_train.std()\n",
        "x_train=(x_train-mean)/std\n",
        "\n",
        "mean = x_test.mean()\n",
        "std= x_test.std()\n",
        "x_test=(x_test-mean)/std\n",
        "\n",
        "\n",
        "def residual_layer( x, filters): \n",
        "  \n",
        "  \n",
        "  conv= Conv2D(filters, (3, 3), padding='same')(x)\n",
        "  r=Activation(relu)(conv)\n",
        "  conv1=Conv2D(filters, (3, 3), padding='same')(r) \n",
        "\n",
        "  return keras.layers.add([conv1,x])\n",
        "\n",
        "def next_stage_layer(x, filters): \n",
        "  \n",
        "  conv= Conv2D(filters, (3, 3),strides=2, padding='same')(x)\n",
        "  r=Activation(relu)(conv)\n",
        "  conv1=Conv2D(filters, (3, 3), padding='same')(r) \n",
        "\n",
        "  conv2= Conv2D(filters, (1, 1), padding='same',strides=(2,2))(x)\n",
        "\n",
        "  return keras.layers.add([conv1,conv2])\n",
        "\n",
        "def resnet(input_shape):\n",
        "  inputs = Input(shape=input_shape)\n",
        "  \n",
        "  \n",
        "  conv_1 = Conv2D(64, (7, 7), padding='same',strides=1, input_shape=(32,32,3))(inputs)\n",
        "  max_pool1= MaxPooling2D((3,3),padding='same',strides=2)(conv_1)\n",
        "  relu_1 = Activation(relu)(max_pool1)\n",
        " \n",
        "  res_1=residual_layer(relu_1,64)\n",
        "  relu_2= Activation(relu)(res_1)\n",
        "\n",
        "  res_2=residual_layer(relu_2,64)\n",
        "  relu_3= Activation(relu)(res_2)\n",
        "\n",
        "  res_3= next_stage_layer(relu_3,128)\n",
        "  relu_4= Activation(relu)(res_3)\n",
        "\n",
        "  res_4=residual_layer(relu_4,128)\n",
        "  relu_5= Activation(relu)(res_4)\n",
        "\n",
        "  res_5= next_stage_layer(relu_5,256)\n",
        "  relu_6= Activation(relu)(res_5)\n",
        "\n",
        "  res_6=residual_layer(relu_6,256)\n",
        "  relu_7= Activation(relu)(res_6)\n",
        "\n",
        "  res_7=residual_layer(relu_7,256)\n",
        "  relu_8= Activation(relu)(res_7)\n",
        "  \n",
        "  res_8=residual_layer(relu_8,256)\n",
        "  relu_9= Activation(relu)(res_8)\n",
        "\n",
        "  avg_pool=  x = AveragePooling2D(pool_size=4)(relu_9)\n",
        "  flat= Flatten()(avg_pool)\n",
        "  dense1= Dense(1000,activation='relu')(flat)\n",
        "  dense2= Dense(100,activation='softmax')(dense1)\n",
        "\n",
        "  model = Model(inputs=inputs, outputs=dense2)\n",
        "  return model\n",
        "\n",
        "model = resnet((32,32,3))\n",
        "\n",
        "logdir=\"logs/fit/\" + datetime.now().strftime(\"%Y%m%d-%H%M%S\")\n",
        "tensorboard_callback = keras.callbacks.TensorBoard(log_dir=logdir)\n",
        "\n",
        "model.compile(optimizer='adam',loss='categorical_crossentropy', metrics=['accuracy',Precision(),Recall()])\n",
        "history=model.fit(x=x_train,y=y_train,epochs=100, validation_split=0.2, shuffle=True, callbacks=[es,mc])\n",
        "\n",
        "from matplotlib import pyplot as plt\n",
        "plt.plot(history.history['accuracy'])\n",
        "plt.plot(history.history['val_accuracy'])\n",
        "plt.title('model accuracy')\n",
        "plt.ylabel('accuracy')\n",
        "plt.xlabel('epoch')\n",
        "plt.legend(['train', 'validation'], loc='upper left')\n",
        "plt.show()\n",
        "# \"Loss\"\n",
        "plt.plot(history.history['loss'])\n",
        "plt.plot(history.history['val_loss'])\n",
        "plt.title('model loss')\n",
        "plt.ylabel('loss')\n",
        "plt.xlabel('epoch')\n",
        "plt.legend(['train', 'validation'], loc='upper left')\n",
        "plt.show()"
      ],
      "execution_count": 2,
      "outputs": [
        {
          "output_type": "stream",
          "text": [
            "Downloading data from https://www.cs.toronto.edu/~kriz/cifar-100-python.tar.gz\n",
            "169009152/169001437 [==============================] - 13s 0us/step\n",
            "Epoch 1/100\n",
            "1250/1250 [==============================] - 30s 24ms/step - loss: 4.0976 - accuracy: 0.0596 - precision: 0.4113 - recall: 0.0013 - val_loss: 3.7203 - val_accuracy: 0.1082 - val_precision: 0.5038 - val_recall: 0.0132\n",
            "Epoch 2/100\n",
            "1250/1250 [==============================] - 30s 24ms/step - loss: 3.4945 - accuracy: 0.1565 - precision: 0.5836 - recall: 0.0209 - val_loss: 3.3012 - val_accuracy: 0.1926 - val_precision: 0.6055 - val_recall: 0.0376\n",
            "Epoch 3/100\n",
            "1250/1250 [==============================] - 29s 24ms/step - loss: 3.1069 - accuracy: 0.2281 - precision: 0.6556 - recall: 0.0583 - val_loss: 3.0840 - val_accuracy: 0.2330 - val_precision: 0.6600 - val_recall: 0.0658\n",
            "Epoch 4/100\n",
            "1250/1250 [==============================] - 29s 23ms/step - loss: 2.7968 - accuracy: 0.2880 - precision: 0.6807 - recall: 0.1046 - val_loss: 2.9539 - val_accuracy: 0.2699 - val_precision: 0.6591 - val_recall: 0.0988\n",
            "Epoch 5/100\n",
            "1250/1250 [==============================] - 29s 24ms/step - loss: 2.5325 - accuracy: 0.3433 - precision: 0.7081 - recall: 0.1551 - val_loss: 2.8104 - val_accuracy: 0.3009 - val_precision: 0.6562 - val_recall: 0.1302\n",
            "Epoch 6/100\n",
            "1250/1250 [==============================] - 29s 23ms/step - loss: 2.2708 - accuracy: 0.3968 - precision: 0.7309 - recall: 0.2097 - val_loss: 2.8410 - val_accuracy: 0.3018 - val_precision: 0.6292 - val_recall: 0.1512\n",
            "Epoch 7/100\n",
            "1250/1250 [==============================] - 29s 23ms/step - loss: 2.0110 - accuracy: 0.4526 - precision: 0.7499 - recall: 0.2742 - val_loss: 2.8306 - val_accuracy: 0.3156 - val_precision: 0.6094 - val_recall: 0.1791\n",
            "Epoch 8/100\n",
            "1250/1250 [==============================] - 29s 23ms/step - loss: 1.7583 - accuracy: 0.5112 - precision: 0.7628 - recall: 0.3422 - val_loss: 2.9352 - val_accuracy: 0.3212 - val_precision: 0.5634 - val_recall: 0.1973\n"
          ],
          "name": "stdout"
        },
        {
          "output_type": "display_data",
          "data": {
            "image/png": "[encoded data removed]",
            "text/plain": [
              "<Figure size 432x288 with 1 Axes>"
            ]
          },
          "metadata": {
            "tags": [],
            "needs_background": "light"
          }
        },
        {
          "output_type": "display_data",
          "data": {
            "image/png": "[encoded data removed]",
            "text/plain": [
              "<Figure size 432x288 with 1 Axes>"
            ]
          },
          "metadata": {
            "tags": [],
            "needs_background": "light"
          }
        }
      ]
    },
    {
      "cell_type": "code",
      "metadata": {
        "id": "W06jKF3dcDMp",
        "outputId": "fd91f78d-2a0d-432b-c5da-a3cf831e481e",
        "colab": {
          "base_uri": "https://localhost:8080/",
          "height": 90
        }
      },
      "source": [
        "import keras \n",
        "\n",
        "(x_train,y_train),(x_test,y_test)=cifar100.load_data()\n",
        "y_test=to_categorical(y_test)\n",
        "\n",
        "mean = x_test.mean()\n",
        "std= x_test.std()\n",
        "x_test=(x_test-mean)/std\n",
        "\n",
        "\n",
        "best_model= keras.models.load_model('ResNet18_ADAM_NoRegularization.h5')\n",
        "_, acc,precision,recall = best_model.evaluate(x_test, y_test)\n",
        "\n",
        "print(\"Accuracy: \"+str(acc*100)+\"%\")\n",
        "print(\"Precision: \"+str(precision*100)+\"%\")\n",
        "print(\"Recall: \"+str(recall*100)+\"%\")"
      ],
      "execution_count": 3,
      "outputs": [
        {
          "output_type": "stream",
          "text": [
            "313/313 [==============================] - 3s 9ms/step - loss: 2.7825 - accuracy: 0.3080 - precision: 0.6703 - recall: 0.1368\n",
            "Accuracy: 30.799999833106995%\n",
            "Precision: 67.02596545219421%\n",
            "Recall: 13.680000603199005%\n"
          ],
          "name": "stdout"
        }
      ]
    },
    {
      "cell_type": "code",
      "metadata": {
        "id": "P20Sp-00j5Qi"
      },
      "source": [
        ""
      ],
      "execution_count": null,
      "outputs": []
    }
  ]
}