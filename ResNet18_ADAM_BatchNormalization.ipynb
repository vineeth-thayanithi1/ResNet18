{
  "nbformat": 4,
  "nbformat_minor": 0,
  "metadata": {
    "colab": {
      "name": "ResNet18_ADAM_BatchNormalization.ipynb",
      "provenance": []
    },
    "kernelspec": {
      "name": "python3",
      "display_name": "Python 3"
    },
    "accelerator": "GPU"
  },
  "cells": [
    {
      "cell_type": "code",
      "metadata": {
        "id": "-CXHGMsKZWtO",
        "outputId": "c6b06dfa-82c8-4899-b28e-5fc3261e24b7",
        "colab": {
          "base_uri": "https://localhost:8080/",
          "height": 942
        }
      },
      "source": [
        "import tensorflow \n",
        "import tensorflow.keras\n",
        "from keras.datasets import cifar100\n",
        "import numpy as np\n",
        "from keras.layers import Conv2D,MaxPooling2D,Dense,Flatten\n",
        "from keras.activations import relu\n",
        "from keras.models import Sequential\n",
        "from keras.utils import to_categorical\n",
        "from keras.optimizers import SGD\n",
        "from keras.metrics import Precision,Recall\n",
        "from tensorflow.keras.layers import AveragePooling2D, Input, Flatten\n",
        "from tensorflow.keras.regularizers import l2\n",
        "from tensorflow.keras.layers import BatchNormalization, Activation\n",
        "from keras.callbacks import EarlyStopping, ModelCheckpoint\n",
        "from tensorflow.keras.models import Model\n",
        "from datetime import datetime\n",
        "import tensorboard\n",
        "import keras\n",
        "\n",
        "(x_train,y_train),(x_test,y_test)=cifar100.load_data()\n",
        "\n",
        "\n",
        "es= EarlyStopping(monitor='val_loss', patience=3)\n",
        "mc= ModelCheckpoint(filepath='ResNet18_ADAM_BatchNormalization.h5', monitor='val_loss', save_best_only=True)\n",
        "\n",
        "y_train=to_categorical(y_train)\n",
        "y_test=to_categorical(y_test)\n",
        "\n",
        "mean = x_train.mean()\n",
        "std= x_train.std()\n",
        "x_train=(x_train-mean)/std\n",
        "\n",
        "mean = x_test.mean()\n",
        "std= x_test.std()\n",
        "x_test=(x_test-mean)/std\n",
        "\n",
        "\n",
        "def residual_layer( x, filters): \n",
        "  \n",
        "  \n",
        "  conv= Conv2D(filters, (3, 3), padding='same')(x)\n",
        "  conv=(BatchNormalization())(conv)\n",
        "  r=Activation(relu)(conv)\n",
        "  conv1=Conv2D(filters, (3, 3), padding='same')(r) \n",
        "  conv1=(BatchNormalization())(conv1)\n",
        "\n",
        "  return keras.layers.add([conv1,x])\n",
        "\n",
        "def next_stage_layer(x, filters): \n",
        "  \n",
        "  conv= Conv2D(filters, (3, 3),strides=2, padding='same')(x)\n",
        "  conv=(BatchNormalization())(conv)\n",
        "  r=Activation(relu)(conv)\n",
        "  conv1=Conv2D(filters, (3, 3), padding='same')(r)\n",
        "  conv1=(BatchNormalization())(conv1) \n",
        "\n",
        "  conv2= Conv2D(filters, (1, 1), padding='same',strides=(2,2))(x)\n",
        "  conv2=(BatchNormalization())(conv2)\n",
        "\n",
        "  return keras.layers.add([conv1,conv2])\n",
        "\n",
        "def resnet(input_shape):\n",
        "  inputs = Input(shape=input_shape)\n",
        "  \n",
        "  \n",
        "  conv_1 = Conv2D(64, (7, 7), padding='same',strides=1, input_shape=(32,32,3))(inputs)\n",
        "  conv_1=(BatchNormalization())(conv_1)\n",
        "  max_pool1= MaxPooling2D((3,3),padding='same',strides=2)(conv_1)\n",
        "  relu_1 = Activation(relu)(max_pool1)\n",
        " \n",
        "  res_1=residual_layer(relu_1,64)\n",
        "  relu_2= Activation(relu)(res_1)\n",
        "\n",
        "  res_2=residual_layer(relu_2,64)\n",
        "  relu_3= Activation(relu)(res_2)\n",
        "\n",
        "  res_3= next_stage_layer(relu_3,128)\n",
        "  relu_4= Activation(relu)(res_3)\n",
        "\n",
        "  res_4=residual_layer(relu_4,128)\n",
        "  relu_5= Activation(relu)(res_4)\n",
        "\n",
        "  res_5= next_stage_layer(relu_5,256)\n",
        "  relu_6= Activation(relu)(res_5)\n",
        "\n",
        "  res_6=residual_layer(relu_6,256)\n",
        "  relu_7= Activation(relu)(res_6)\n",
        "\n",
        "  res_7=residual_layer(relu_7,256)\n",
        "  relu_8= Activation(relu)(res_7)\n",
        "  \n",
        "  res_8=residual_layer(relu_8,256)\n",
        "  relu_9= Activation(relu)(res_8)\n",
        "\n",
        "  avg_pool=  x = AveragePooling2D(pool_size=4)(relu_9)\n",
        "  flat= Flatten()(avg_pool)\n",
        "  dense1= Dense(1000,activation='relu')(flat)\n",
        "  dense1=(BatchNormalization())(dense1)\n",
        "  dense2= Dense(100,activation='softmax')(dense1)\n",
        "\n",
        "  model = Model(inputs=inputs, outputs=dense2)\n",
        "  return model\n",
        "\n",
        "model = resnet((32,32,3))\n",
        "\n",
        "logdir=\"logs/fit/\" + datetime.now().strftime(\"%Y%m%d-%H%M%S\")\n",
        "tensorboard_callback = keras.callbacks.TensorBoard(log_dir=logdir)\n",
        "\n",
        "model.compile(optimizer='adam',loss='categorical_crossentropy', metrics=['accuracy',Precision(),Recall()])\n",
        "history=model.fit(x=x_train,y=y_train,epochs=100, validation_data=(x_test,y_test), callbacks=[es,mc,tensorboard_callback])\n",
        "\n",
        "from matplotlib import pyplot as plt\n",
        "plt.plot(history.history['accuracy'])\n",
        "plt.plot(history.history['val_accuracy'])\n",
        "plt.title('model accuracy')\n",
        "plt.ylabel('accuracy')\n",
        "plt.xlabel('epoch')\n",
        "plt.legend(['train', 'validation'], loc='upper left')\n",
        "plt.show()\n",
        "# \"Loss\"\n",
        "plt.plot(history.history['loss'])\n",
        "plt.plot(history.history['val_loss'])\n",
        "plt.title('model loss')\n",
        "plt.ylabel('loss')\n",
        "plt.xlabel('epoch')\n",
        "plt.legend(['train', 'validation'], loc='upper left')\n",
        "plt.show()"
      ],
      "execution_count": 7,
      "outputs": [
        {
          "output_type": "stream",
          "text": [
            "Epoch 1/100\n",
            "   2/1563 [..............................] - ETA: 3:48 - loss: 5.3145 - accuracy: 0.0312 - precision_2: 0.2500 - recall_2: 0.0156          WARNING:tensorflow:Callbacks method `on_train_batch_end` is slow compared to the batch time (batch time: 0.0219s vs `on_train_batch_end` time: 0.2693s). Check your callbacks.\n",
            "1563/1563 [==============================] - 30s 19ms/step - loss: 3.8011 - accuracy: 0.1360 - precision_2: 0.3979 - recall_2: 0.0170 - val_loss: 28.0061 - val_accuracy: 0.0781 - val_precision_2: 0.0535 - val_recall_2: 0.0223\n",
            "Epoch 2/100\n",
            "1563/1563 [==============================] - 29s 18ms/step - loss: 3.0062 - accuracy: 0.2626 - precision_2: 0.6035 - recall_2: 0.0855 - val_loss: 3.0800 - val_accuracy: 0.2822 - val_precision_2: 0.5495 - val_recall_2: 0.1265\n",
            "Epoch 3/100\n",
            "1563/1563 [==============================] - 29s 18ms/step - loss: 2.4885 - accuracy: 0.3581 - precision_2: 0.6669 - recall_2: 0.1771 - val_loss: 2.5116 - val_accuracy: 0.3594 - val_precision_2: 0.6709 - val_recall_2: 0.1955\n",
            "Epoch 4/100\n",
            "1563/1563 [==============================] - 29s 19ms/step - loss: 2.1171 - accuracy: 0.4317 - precision_2: 0.7052 - recall_2: 0.2587 - val_loss: 2.4022 - val_accuracy: 0.3961 - val_precision_2: 0.6499 - val_recall_2: 0.2590\n",
            "Epoch 5/100\n",
            "1563/1563 [==============================] - 29s 19ms/step - loss: 1.7995 - accuracy: 0.5071 - precision_2: 0.7437 - recall_2: 0.3431 - val_loss: 2.1662 - val_accuracy: 0.4389 - val_precision_2: 0.6881 - val_recall_2: 0.3056\n",
            "Epoch 6/100\n",
            "1563/1563 [==============================] - 29s 19ms/step - loss: 1.5062 - accuracy: 0.5747 - precision_2: 0.7763 - recall_2: 0.4286 - val_loss: 2.0900 - val_accuracy: 0.4695 - val_precision_2: 0.6587 - val_recall_2: 0.3643\n",
            "Epoch 7/100\n",
            "1563/1563 [==============================] - 29s 19ms/step - loss: 1.2067 - accuracy: 0.6452 - precision_2: 0.8046 - recall_2: 0.5261 - val_loss: 2.1227 - val_accuracy: 0.4773 - val_precision_2: 0.6416 - val_recall_2: 0.3951\n",
            "Epoch 8/100\n",
            "1563/1563 [==============================] - 29s 19ms/step - loss: 0.9016 - accuracy: 0.7269 - precision_2: 0.8379 - recall_2: 0.6347 - val_loss: 2.3624 - val_accuracy: 0.4601 - val_precision_2: 0.6001 - val_recall_2: 0.3970\n",
            "Epoch 9/100\n",
            "1563/1563 [==============================] - 30s 19ms/step - loss: 0.6359 - accuracy: 0.8011 - precision_2: 0.8721 - recall_2: 0.7412 - val_loss: 2.6513 - val_accuracy: 0.4583 - val_precision_2: 0.5640 - val_recall_2: 0.4144\n"
          ],
          "name": "stdout"
        },
        {
          "output_type": "display_data",
          "data": {
            "image/png": "[encoded data removed]",
            "text/plain": [
              "<Figure size 432x288 with 1 Axes>"
            ]
          },
          "metadata": {
            "tags": [],
            "needs_background": "light"
          }
        },
        {
          "output_type": "display_data",
          "data": {
            "image/png": "[encoded data removed]",
            "text/plain": [
              "<Figure size 432x288 with 1 Axes>"
            ]
          },
          "metadata": {
            "tags": [],
            "needs_background": "light"
          }
        }
      ]
    },
    {
      "cell_type": "code",
      "metadata": {
        "id": "8IL_Nzm6dhBz",
        "outputId": "66243a68-6792-444a-de0d-a4c361cab87d",
        "colab": {
          "base_uri": "https://localhost:8080/",
          "height": 90
        }
      },
      "source": [
        "import keras \n",
        "\n",
        "(x_train,y_train),(x_test,y_test)=cifar100.load_data()\n",
        "y_test=to_categorical(y_test)\n",
        "\n",
        "mean = x_test.mean()\n",
        "std= x_test.std()\n",
        "x_test=(x_test-mean)/std\n",
        "\n",
        "\n",
        "best_model= keras.models.load_model('ResNet18_ADAM_BatchNormalization.h5')\n",
        "_, acc,precision,recall = best_model.evaluate(x_test, y_test)\n",
        "print(\"Accuracy: \"+str(acc*100)+\"%\")\n",
        "print(\"Precision: \"+str(precision*100)+\"%\")\n",
        "print(\"Recall: \"+str(recall*100)+\"%\")"
      ],
      "execution_count": 9,
      "outputs": [
        {
          "output_type": "stream",
          "text": [
            "313/313 [==============================] - 2s 7ms/step - loss: 2.0900 - accuracy: 0.4695 - precision_2: 0.6587 - recall_2: 0.3643\n",
            "Accuracy: 46.950000524520874%\n",
            "Precision: 65.86512327194214%\n",
            "Recall: 36.4300012588501%\n"
          ],
          "name": "stdout"
        }
      ]
    },
    {
      "cell_type": "code",
      "metadata": {
        "id": "-ldC3CM4bud4"
      },
      "source": [
        ""
      ],
      "execution_count": null,
      "outputs": []
    }
  ]
}